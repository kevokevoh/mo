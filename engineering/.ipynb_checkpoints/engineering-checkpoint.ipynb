{
 "cells": [
  {
   "cell_type": "markdown",
   "id": "6972300e-0dd6-42d8-ba91-f74c42b01898",
   "metadata": {},
   "source": [
    "# Develop a basic MVP to a group of early adopters that moves a lead through the funnel based on certain criteria they’ve met.\n",
    "- Detail the backend requirements to support your app and onboarding flow.\n",
    "- Develop an automated funnel that enables conversion, onboarding, and sends the customer a request for deposit payment. "
   ]
  },
  {
   "cell_type": "raw",
   "id": "c057a513-f135-46ba-855d-d15c1578be0c",
   "metadata": {},
   "source": [
    "\n",
    "## API ROUTES\n",
    "POST /api/v2/users - Create user\n",
    "\n",
    "GET /api/v2/users - List users\n",
    "\n",
    "PUT /api/v2/users/{id} - Update user\n",
    "\n",
    "POST /api/v2/leads - Create new lead\n",
    "\n",
    "GET /api/v2/leads/{id} - Get lead details\n",
    "\n",
    "PUT /api/v2/leads/{id} - Update lead information\n",
    "\n",
    "DELETE /api/v2/leads/{id} - Delete lead\n",
    "\n",
    "POST /api/v2/leads/{id}/qualify - Trigger lead qualification(After KYC or some algo calculations)\n",
    "\n",
    "POST /api/v2/leads/{id}/convert - Mark lead as converted (User consented to take up loan)\n",
    "\n",
    "POST /api/v2/leads/{id}/onboard - Start onboarding process (Associate user with product and other backend tasks)\n",
    "\n",
    "GET /api/v2/leads/{id}/onboarding-status - Check onboarding progress\n",
    "\n",
    "POST /api/v2/leads/{id}/request-deposit - Initiate deposit payment request\n",
    "\n",
    "\n",
    "## DB Schema\n",
    "### Users (for agents/merchants):\n",
    "id (primary key)\n",
    "username\n",
    "email\n",
    "password (hashed)\n",
    "role\n",
    "\n",
    "### Leads\n",
    "id (primary Key): Unique identifier for the lead.\n",
    "name\n",
    "contact_info\n",
    "status: ie  \"new,\" \"qualified,\" \"converted\"\n",
    "kyc_status:  ie, \"pending,\" \"approved\"\n",
    "\n",
    "### users_leads\n",
    "user_id (foreign Key)\n",
    "lead_id (foreign Key)\n",
    "\n",
    "### onboarding_process\n",
    "id (primary Key)\n",
    "lead_id (poreign Key)\n",
    "status: ie \"initiated,\" \"in_progress,\" \"completed\"\n",
    "progress: ie \"document verification,\" \"account creation\"\n",
    "\n",
    "### deposit_requests\n",
    "id (primary Key)\n",
    "lead_id (poreign Key)\n",
    "amount\n",
    "status: ie \"initiated,\" \"completed\"\n",
    "payment_method"
   ]
  }
 ],
 "metadata": {
  "kernelspec": {
   "display_name": "Python 3 (ipykernel)",
   "language": "python",
   "name": "python3"
  },
  "language_info": {
   "codemirror_mode": {
    "name": "ipython",
    "version": 3
   },
   "file_extension": ".py",
   "mimetype": "text/x-python",
   "name": "python",
   "nbconvert_exporter": "python",
   "pygments_lexer": "ipython3",
   "version": "3.12.4"
  }
 },
 "nbformat": 4,
 "nbformat_minor": 5
}
